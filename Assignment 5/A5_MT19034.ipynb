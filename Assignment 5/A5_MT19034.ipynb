{
 "cells": [
  {
   "cell_type": "code",
   "execution_count": 1,
   "metadata": {},
   "outputs": [],
   "source": [
    "import os\n",
    "import codecs\n",
    "import string\n",
    "import os\n",
    "import nltk\n",
    "from nltk.tokenize import sent_tokenize\n",
    "from nltk.corpus import stopwords \n",
    "from nltk.tokenize import word_tokenize\n",
    "import pickle\n",
    "import math\n",
    "import numpy as np\n",
    "from nltk.tree import *\n",
    "from nltk.stem import WordNetLemmatizer \n",
    "import random\n",
    "import numpy as num\n",
    "from math import exp\n",
    "from nltk.tokenize import RegexpTokenizer \n",
    "from nltk.stem import WordNetLemmatizer \n",
    "from tqdm import tqdm\n",
    "import matplotlib.pyplot as plt\n",
    "from nltk.corpus import stopwords\n",
    "\n",
    "stop_words = set(stopwords.words('english')) \n",
    "\n",
    "def read(file):\n",
    "\tfp = codecs.open(file,\"r\",encoding='utf-8', errors='ignore')\n",
    "\ttext = fp.read()\n",
    "\treturn text"
   ]
  },
  {
   "cell_type": "code",
   "execution_count": 9,
   "metadata": {},
   "outputs": [
    {
     "name": "stderr",
     "output_type": "stream",
     "text": [
      "100%|██████████| 5000/5000 [00:08<00:00, 615.89it/s]\n"
     ]
    },
    {
     "name": "stdout",
     "output_type": "stream",
     "text": [
      "#Docs are  5000\n"
     ]
    }
   ],
   "source": [
    "\n",
    "files = []\n",
    "token = RegexpTokenizer('\\s+|\\-+|\\.+|\\@+|\\t+|\\n+|[0-9]+|\\\"+|\\>+|\\,+|\\?+|\\:+|\\{+|\\(+|\\[+|\\)+|\\}+|\\]+|\\<+|\\_+|\\!+|\\/+|\\|+|\\\\+|\\*+|\\=+|\\^+|\\$+|\\&+|\\#+|\\*+|\\++|;+', gaps = True)\n",
    "lem = WordNetLemmatizer() \n",
    "path='C:/Users/Dibyendu/Desktop/Information Retrieval/A4_MT19034/20_newsgroups/'\n",
    "for r, d, f in os.walk(path):\n",
    "\tfor file in f:\n",
    "\t\tfiles.append(os.path.join(r, file))\n",
    "files.sort()\n",
    "doc=[]\n",
    "size=len(files)\n",
    "count=0\n",
    "for i in tqdm(range(0,size)):\n",
    "    text=read(files[i])\n",
    "    m=token.tokenize(text)\n",
    "    doc.append(m)\n",
    "    count+=1\n",
    "print(\"#Docs are \",count)"
   ]
  },
  {
   "cell_type": "code",
   "execution_count": 10,
   "metadata": {},
   "outputs": [
    {
     "name": "stderr",
     "output_type": "stream",
     "text": [
      "100%|██████████| 5000/5000 [00:12<00:00, 393.56it/s]\n"
     ]
    },
    {
     "name": "stdout",
     "output_type": "stream",
     "text": [
      "#Words are  48189\n"
     ]
    }
   ],
   "source": [
    "# Extracting all valid words\n",
    "word_list={} # Words collection\n",
    "count=-1\n",
    "\n",
    "cosine_index=[] # Document index file\n",
    "\n",
    "for i in tqdm(range(0,size)):\n",
    "    count+=1\n",
    "    index=0\n",
    "    cosine_index.append({})\n",
    "    cosine_index[count]['Unique']=0.0\n",
    "    cosine_index[count]['Total']=0.0\n",
    "    files[i]=[files[i],len(doc[i])]\n",
    "    for tk in doc[i]:\n",
    "        k=tk.lower()\n",
    "        k=lem.lemmatize(k)\n",
    "        #k=tk\n",
    "        \n",
    "        if  k.lower() not in cosine_index[count].keys():\n",
    "            cosine_index[count][k.lower()]=1.0\n",
    "            cosine_index[count]['Unique']+=1.0\n",
    "            cosine_index[count]['Total']+=1.0\n",
    "        else:\n",
    "            cosine_index[count][k.lower()]+=1.0\n",
    "            cosine_index[count]['Total']+=1.0\n",
    "        \n",
    "        if k.lower() not in word_list.keys():\n",
    "            \n",
    "            word_list[k.lower()]=[]\n",
    "            word_list[k.lower()].append(1)\n",
    "            word_list[k.lower()].append([])\n",
    "            word_list[k.lower()][1].append([count,1])\n",
    "            \n",
    "        else:\n",
    "            if count != word_list[k.lower()][1][len(word_list[k.lower()][1])-1][0]:\n",
    "                \n",
    "                word_list[k.lower()][0]+=1\n",
    "                word_list[k.lower()][1].append([count,1])\n",
    "            else:\n",
    "                word_list[k.lower()][1][word_list[k.lower()][0]-1][1]+=1.0\n",
    "    \n",
    "print('#Words are ',len(word_list)) "
   ]
  },
  {
   "cell_type": "code",
   "execution_count": 11,
   "metadata": {},
   "outputs": [
    {
     "name": "stdout",
     "output_type": "stream",
     "text": [
      "Index table is created\n",
      "Index table is stored\n"
     ]
    }
   ],
   "source": [
    "# Storing index table into pickle file\n",
    "\n",
    "word_list['File_info']=[]\n",
    "word_list['File_info'].append(len(files))\n",
    "word_list['File_info'].append(files)\n",
    "word_list['Cosine_sim']=cosine_index\n",
    "print(\"Index table is created\")\n",
    "#index = open('TF-Idf_Q1', 'ab')\n",
    "#pickle.dump(word_list, index)                \n",
    "#index.close()\n",
    "print(\"Index table is stored\")"
   ]
  },
  {
   "cell_type": "code",
   "execution_count": 22,
   "metadata": {},
   "outputs": [],
   "source": [
    "def Tf_cal(freq,length):  # Tf calculation\n",
    "    \n",
    "    res=0                   ######################################### 1) \n",
    "    if freq>0:\n",
    "        \n",
    "        res=1\n",
    "        \n",
    "    #res=freq               ######################################### 2) \n",
    "    \n",
    "    #res=freq/length        ######################################### 3) \n",
    "    \n",
    "    return res\n",
    "\n",
    "\n",
    "\n",
    "def Idf_cal(freq,Doc):  # Idf Calculation\n",
    "    \n",
    "    res=math.log10((Doc+1)/(freq+1))  ######################################### 3) \n",
    "    \n",
    "    return res\n",
    "\n",
    "def MutualInfor(N11,N10,N01,N00,N):\n",
    "    sum=0.0\n",
    "    if N11!=0:\n",
    "        sum=N11/N*math.log2((N11*N)/((N11+N10)*(N01+N11))) \n",
    "    if N10!=0:\n",
    "        sum+= N10/N*math.log2((N10*N)/((N11+N10)*(N00+N10)))\n",
    "    if N01!=0:\n",
    "        sum+= N01/N*math.log2((N01*N)/((N00+N01)*(N11+N01))) \n",
    "    if N00!=0:\n",
    "        sum+= N00/N*math.log2((N00*N)/((N00+N01)*(N00+N10)))\n",
    "    \n",
    "    return sum\n",
    "\n",
    "def NaiveBayes(cosine,test,feature,toldoc,B):\n",
    "    \n",
    "    sum=toldoc.copy()\n",
    "    sum=np.array(sum)\n",
    "    sum=np.sum(sum)\n",
    "    \n",
    "    max=0\n",
    "    ind=0\n",
    "    for i in range(len(toldoc)):\n",
    "        prob=toldoc[i]/sum\n",
    "        for k in cosine.keys():\n",
    "            if k!='File_info' and k!='Cosine_sim' and k!='Total' and k!='Unique' and k not in stop_words and len(k)>1:\n",
    "                if feature[k]==1:\n",
    "                    prob=prob*(test[i][k]+1)/(test[i]['Total']+B-1)\n",
    "        if prob>max:\n",
    "            max=prob\n",
    "            ind=i\n",
    "    \n",
    "    return ind\n",
    "\n",
    "def KNN(train,test,val):\n",
    "    \n",
    "    arr=[]\n",
    "    for i in range(len(train)):\n",
    "        sum=0\n",
    "        for j in range(len(train[i])):\n",
    "            sum+=(train[i][j]-test[j])**2\n",
    "        arr.append([math.sqrt(sum),train[i][1]])\n",
    "    arr.sort()\n",
    "    \n",
    "    return arr\n",
    "def display(confuse):\n",
    "    label=['comp.graphics     ', 'sci.med           ', 'talk.politics.misc', 'rec.sport.hockey  ', 'sci.space         ']\n",
    "    label.sort()\n",
    "    print(\" \"*18,end=\"\\t\")\n",
    "    for i in label:\n",
    "        print(i,end=\"  \")\n",
    "    print()\n",
    "    for i in range(5):\n",
    "        print(label[i],end=\"\\t \")\n",
    "        sum=0.0\n",
    "        for j in range(5):\n",
    "            sum+=confuse[i][j]\n",
    "            a=len(str(confuse[i][j]))\n",
    "            \n",
    "            print(confuse[i][j],(15-a)*' ',end=\"\\t\")\n",
    "        print(\"Acc: \",confuse[i][i]/sum*100)\n",
    "        print()\n",
    "        \n",
    "def KNN(train,test):\n",
    "    \n",
    "    arr=[]\n",
    "    for i in range(len(train)):\n",
    "        ##vec=np.linalg.norm(train[i][0]-test)\n",
    "        vec=train[i][0]-test\n",
    "        vec=vec*vec\n",
    "        vec=np.sum(vec)\n",
    "        vec=math.sqrt(vec)\n",
    "        arr.append([vec,train[i][1]])\n",
    "        \n",
    "    arr.sort()\n",
    "    return arr\n"
   ]
  },
  {
   "cell_type": "code",
   "execution_count": 34,
   "metadata": {},
   "outputs": [],
   "source": [
    "# Reading Pickle file and Spliting Ratio\n",
    "\n",
    "dbfile = open('TF-Idf_Q1', 'rb')      \n",
    "wordlist = pickle.load(dbfile) \n",
    "dbfile.close()\n",
    "tol=wordlist['File_info'][0]\n",
    "data_df=[]\n",
    "for i in range(tol):\n",
    "    data_df.append([i,int(i/1000)])\n",
    "random.shuffle(data_df)          # Random Shuffle Before spliting into Train and Test dataset"
   ]
  },
  {
   "cell_type": "code",
   "execution_count": 41,
   "metadata": {},
   "outputs": [
    {
     "name": "stdin",
     "output_type": "stream",
     "text": [
      "Enter ratio of dataset should be used for training-  0.7\n"
     ]
    },
    {
     "name": "stdout",
     "output_type": "stream",
     "text": [
      "\n",
      "\t\tTotal train points-  3500  Total test points-  1500\n"
     ]
    }
   ],
   "source": [
    "# Please run above two cell first\n",
    "\n",
    "ratio=float(input(\"Enter ratio of dataset should be used for training- \"))\n",
    "train=data_df[:int(tol*ratio)]\n",
    "test=data_df[int(tol*ratio):]\n",
    "check=[0 for i in range(tol)]\n",
    "toldoc=[0 for i in range(5)]\n",
    "print(\"\\n\\t\\tTotal train points- \",len(train),\" Total test points- \",len(test))\n",
    "\n",
    "ttol=0\n",
    "\n",
    "for i in range(len(train)):\n",
    "    check[train[i][0]]=1\n",
    "    toldoc[int(train[i][0]/1000)]+=1\n",
    "    ttol+=1\n",
    "docclass=[[] for i in range(5)]\n",
    "doclen=[0 for i in range(5)]\n",
    "miclass=[[] for i in range(5)]\n",
    "\n",
    "for k in range(tol):\n",
    "    if check[k]==1:\n",
    "        doclen[int(k/1000)]+=wordlist['Cosine_sim'][k]['Total']\n",
    "    \n",
    "featuretf={}            # Features for Tf-Idf\n",
    "featuremi={}            # Features for MI\n",
    "wclass=[{'Total':0} for i in range(5)]\n",
    "\n",
    "for k in wordlist.keys():\n",
    "    if k!='File_info' and k!='Cosine_sim' and k not in stop_words and len(k)>1:\n",
    "        \n",
    "        featuretf[k]=0\n",
    "        featuremi[k]=0\n",
    "        \n",
    "        arr=[0 for i in range(5)]\n",
    "        doccou=[0 for i in range(5)]\n",
    "        for each in wordlist[k][1]:\n",
    "            ind=int(each[0]/1000)\n",
    "            if check[each[0]]==1:\n",
    "                arr[ind]+=each[1]\n",
    "                doccou[ind]+=1\n",
    "        cou=0\n",
    "        for i in range(len(arr)):\n",
    "            if arr[i]>=1:\n",
    "                doclen[i]+=arr[i]\n",
    "                cou+=1\n",
    "        \n",
    "        idf=Idf_cal(cou,5)\n",
    "        cou=doccou.copy()\n",
    "        cou=np.array(cou)\n",
    "        cou=np.sum(cou)\n",
    "        for i in range(len(arr)):\n",
    "            \n",
    "            wclass[i][k]=arr[i]\n",
    "            wclass[i]['Total']+=arr[i]\n",
    "            docclass[i].append([arr[i]*idf/doclen[i],k,idf,arr[i]])     ##Adding Tf-Idf feature word into each classes\n",
    "            N11=doccou[i]\n",
    "            N10=(cou-doccou[i])\n",
    "            N01=(toldoc[i]-doccou[i])\n",
    "            N00=(ttol-doccou[i]-(cou-doccou[i])-(toldoc[i]-doccou[i]))\n",
    "            N=ttol\n",
    "            mi=MutualInfor(N11,N10,N01,N00,N)\n",
    "            miclass[i].append([mi,k,N11,N10,N01,N00,N])             ##Adding MI feature word into each classes\n",
    "\n",
    "for i in range(5):\n",
    "    docclass[i].sort(reverse=True)\n",
    "    miclass[i].sort(reverse=True)"
   ]
  },
  {
   "cell_type": "code",
   "execution_count": 42,
   "metadata": {},
   "outputs": [
    {
     "name": "stdout",
     "output_type": "stream",
     "text": [
      "\n",
      "\t  100  top features word will be choosen from each classes \n"
     ]
    }
   ],
   "source": [
    "#number=int(input(\"Number of feature need to be selected- \"))\n",
    "number=100\n",
    "print()\n",
    "print(\"\\t \",number,\" top features word will be choosen from each classes \")\n",
    "\n",
    "fwordtf=[]\n",
    "for i in range(5):\n",
    "    for k in range(number):\n",
    "        word=docclass[i][k][1]\n",
    "        if featuretf[word]!=1:\n",
    "            featuretf[word]=1\n",
    "            fwordtf.append(word)\n",
    "\n",
    "fwordmi=[]        \n",
    "for i in range(5):\n",
    "    for k in range(number):\n",
    "        word=miclass[i][k][1]\n",
    "        if featuremi[word]!=1:\n",
    "            featuremi[word]=1\n",
    "            fwordmi.append(word)"
   ]
  },
  {
   "cell_type": "code",
   "execution_count": 43,
   "metadata": {},
   "outputs": [
    {
     "name": "stdout",
     "output_type": "stream",
     "text": [
      "\n",
      "Naive Bayes Algorithm-\n",
      "\n",
      "\n",
      " Confusion Matrix-\n",
      " \n",
      "                  \tcomp.graphics       rec.sport.hockey    sci.med             sci.space           talk.politics.misc  \n",
      "comp.graphics     \t 261             \t2               \t26              \t14              \t2               \tAcc:  85.57377049180329\n",
      "\n",
      "rec.sport.hockey  \t 0               \t299             \t0               \t0               \t0               \tAcc:  100.0\n",
      "\n",
      "sci.med           \t 2               \t0               \t236             \t41              \t5               \tAcc:  83.09859154929578\n",
      "\n",
      "sci.space         \t 6               \t0               \t7               \t313             \t1               \tAcc:  95.71865443425077\n",
      "\n",
      "talk.politics.misc\t 0               \t0               \t2               \t1               \t282             \tAcc:  98.94736842105263\n",
      "\n",
      "\n",
      "\n",
      "Tf-Idf feature based Naive Bayes accuracy-  92.73333333333333\n",
      "\n",
      "\n",
      " Confusion Matrix-\n",
      " \n",
      "                  \tcomp.graphics       rec.sport.hockey    sci.med             sci.space           talk.politics.misc  \n",
      "comp.graphics     \t 303             \t0               \t2               \t0               \t0               \tAcc:  99.34426229508196\n",
      "\n",
      "rec.sport.hockey  \t 0               \t299             \t0               \t0               \t0               \tAcc:  100.0\n",
      "\n",
      "sci.med           \t 3               \t0               \t277             \t2               \t2               \tAcc:  97.53521126760563\n",
      "\n",
      "sci.space         \t 4               \t0               \t0               \t322             \t1               \tAcc:  98.47094801223241\n",
      "\n",
      "talk.politics.misc\t 0               \t0               \t0               \t0               \t285             \tAcc:  100.0\n",
      "\n",
      "\n",
      "MI feature based Naive Bayes accuracy-  99.06666666666666\n",
      "\n"
     ]
    }
   ],
   "source": [
    "# Naive Bayes Algorithm using Tf-Idf feature selection\n",
    "\n",
    "confuse=[[0 for j in range(5)] for i in range(5)]\n",
    "        \n",
    "print(\"\\nNaive Bayes Algorithm-\\n\")  \n",
    "cou=0     \n",
    "BB=len(wclass[0])\n",
    "for i in test:\n",
    "    cosine=wordlist['Cosine_sim'][i[0]]\n",
    "    o=NaiveBayes(cosine,wclass,featuretf,toldoc,BB)\n",
    "    if o==i[1]:\n",
    "        cou+=1\n",
    "        confuse[i[1]][i[1]]+=1\n",
    "    else:\n",
    "        confuse[i[1]][o]+=1\n",
    "\n",
    "#confuse=np.matrix(confuse)\n",
    "print(\"\\n Confusion Matrix-\\n \")\n",
    "display(confuse)\n",
    "print()\n",
    "\n",
    "# Naive Bayes Algorithm using MI feature selection\n",
    "\n",
    "confuse=[[0 for j in range(5)] for i in range(5)]\n",
    "\n",
    "print(\"\\nTf-Idf feature based Naive Bayes accuracy- \",cou/len(test)*100)\n",
    "print()\n",
    "\n",
    "cou=0     \n",
    "for i in test:\n",
    "    cosine=wordlist['Cosine_sim'][i[0]]\n",
    "    o=NaiveBayes(cosine,wclass,featuremi,toldoc,BB)\n",
    "    if o==i[1]:\n",
    "        cou+=1\n",
    "        confuse[i[1]][i[1]]+=1\n",
    "    else:\n",
    "        confuse[i[1]][o]+=1\n",
    "        \n",
    "#confuse=np.matrix(confuse)\n",
    "print(\"\\n Confusion Matrix-\\n \")\n",
    "display(confuse)\n",
    "print()\n",
    "\n",
    "print(\"MI feature based Naive Bayes accuracy- \",cou/len(test)*100)\n",
    "print()"
   ]
  },
  {
   "cell_type": "code",
   "execution_count": 44,
   "metadata": {},
   "outputs": [
    {
     "name": "stdout",
     "output_type": "stream",
     "text": [
      "\n",
      "\tTf-Idf feature based KNN Algorithm-\n",
      "\n",
      "\n"
     ]
    },
    {
     "name": "stderr",
     "output_type": "stream",
     "text": [
      "100%|██████████| 3500/3500 [00:00<00:00, 6255.56it/s]\n",
      "100%|██████████| 1500/1500 [00:00<00:00, 5675.49it/s]\n"
     ]
    },
    {
     "name": "stdout",
     "output_type": "stream",
     "text": [
      "\n"
     ]
    },
    {
     "name": "stderr",
     "output_type": "stream",
     "text": [
      "100%|██████████| 1500/1500 [00:33<00:00, 54.59it/s]\n",
      "100%|██████████| 1500/1500 [00:00<00:00, 300767.57it/s]\n"
     ]
    },
    {
     "name": "stdout",
     "output_type": "stream",
     "text": [
      "\n",
      "\n",
      " Confusion Matrix-\n",
      " \n",
      "                  \tcomp.graphics       rec.sport.hockey    sci.med             sci.space           talk.politics.misc  \n",
      "comp.graphics     \t 301             \t0               \t2               \t2               \t0               \tAcc:  98.68852459016394\n",
      "\n",
      "rec.sport.hockey  \t 0               \t299             \t0               \t0               \t0               \tAcc:  100.0\n",
      "\n",
      "sci.med           \t 47              \t0               \t235             \t2               \t0               \tAcc:  82.74647887323944\n",
      "\n",
      "sci.space         \t 31              \t0               \t25              \t271             \t0               \tAcc:  82.87461773700305\n",
      "\n",
      "talk.politics.misc\t 2               \t0               \t3               \t0               \t280             \tAcc:  98.24561403508771\n",
      "\n",
      "\n",
      "\n",
      "Tf-Idf feature based KNN (k=  1 ) accuracy-  92.4\n",
      "\n"
     ]
    },
    {
     "name": "stderr",
     "output_type": "stream",
     "text": [
      "100%|██████████| 1500/1500 [00:00<00:00, 250695.57it/s]\n"
     ]
    },
    {
     "name": "stdout",
     "output_type": "stream",
     "text": [
      "\n",
      "\n",
      " Confusion Matrix-\n",
      " \n",
      "                  \tcomp.graphics       rec.sport.hockey    sci.med             sci.space           talk.politics.misc  \n",
      "comp.graphics     \t 296             \t0               \t7               \t2               \t0               \tAcc:  97.04918032786885\n",
      "\n",
      "rec.sport.hockey  \t 0               \t299             \t0               \t0               \t0               \tAcc:  100.0\n",
      "\n",
      "sci.med           \t 5               \t0               \t278             \t1               \t0               \tAcc:  97.88732394366197\n",
      "\n",
      "sci.space         \t 10              \t0               \t43              \t273             \t1               \tAcc:  83.4862385321101\n",
      "\n",
      "talk.politics.misc\t 3               \t0               \t5               \t0               \t277             \tAcc:  97.19298245614036\n",
      "\n",
      "\n",
      "\n",
      "Tf-Idf feature based KNN (k=  3 ) accuracy-  94.33333333333334\n",
      "\n"
     ]
    },
    {
     "name": "stderr",
     "output_type": "stream",
     "text": [
      "100%|██████████| 1500/1500 [00:00<00:00, 188001.08it/s]\n"
     ]
    },
    {
     "name": "stdout",
     "output_type": "stream",
     "text": [
      "\n",
      "\n",
      " Confusion Matrix-\n",
      " \n",
      "                  \tcomp.graphics       rec.sport.hockey    sci.med             sci.space           talk.politics.misc  \n",
      "comp.graphics     \t 297             \t0               \t7               \t1               \t0               \tAcc:  97.37704918032787\n",
      "\n",
      "rec.sport.hockey  \t 0               \t299             \t0               \t0               \t0               \tAcc:  100.0\n",
      "\n",
      "sci.med           \t 4               \t0               \t280             \t0               \t0               \tAcc:  98.59154929577466\n",
      "\n",
      "sci.space         \t 18              \t0               \t53              \t254             \t2               \tAcc:  77.67584097859327\n",
      "\n",
      "talk.politics.misc\t 3               \t0               \t1               \t0               \t281             \tAcc:  98.59649122807016\n",
      "\n",
      "\n",
      "\n",
      "Tf-Idf feature based KNN (k=  5 ) accuracy-  93.13333333333334\n",
      "\n",
      "\n",
      "\n",
      "\tMI feature based KNN Algorithm-\n",
      "\n",
      "\n"
     ]
    },
    {
     "name": "stderr",
     "output_type": "stream",
     "text": [
      "100%|██████████| 3500/3500 [00:00<00:00, 5424.07it/s]\n",
      "100%|██████████| 1500/1500 [00:00<00:00, 6835.40it/s]\n"
     ]
    },
    {
     "name": "stdout",
     "output_type": "stream",
     "text": [
      "\n"
     ]
    },
    {
     "name": "stderr",
     "output_type": "stream",
     "text": [
      "100%|██████████| 1500/1500 [00:30<00:00, 49.46it/s]\n",
      "100%|██████████| 1500/1500 [00:00<00:00, 300753.19it/s]\n"
     ]
    },
    {
     "name": "stdout",
     "output_type": "stream",
     "text": [
      "\n",
      "\n",
      " Confusion Matrix-\n",
      " \n",
      "                  \tcomp.graphics       rec.sport.hockey    sci.med             sci.space           talk.politics.misc  \n",
      "comp.graphics     \t 303             \t0               \t2               \t0               \t0               \tAcc:  99.34426229508196\n",
      "\n",
      "rec.sport.hockey  \t 0               \t299             \t0               \t0               \t0               \tAcc:  100.0\n",
      "\n",
      "sci.med           \t 2               \t0               \t282             \t0               \t0               \tAcc:  99.29577464788733\n",
      "\n",
      "sci.space         \t 0               \t0               \t5               \t322             \t0               \tAcc:  98.47094801223241\n",
      "\n",
      "talk.politics.misc\t 0               \t0               \t1               \t0               \t284             \tAcc:  99.64912280701755\n",
      "\n",
      "\n",
      "\n",
      "MI feature based KNN (k=  1 ) accuracy-  99.33333333333333\n",
      "\n"
     ]
    },
    {
     "name": "stderr",
     "output_type": "stream",
     "text": [
      "100%|██████████| 1500/1500 [00:00<00:00, 214835.44it/s]\n"
     ]
    },
    {
     "name": "stdout",
     "output_type": "stream",
     "text": [
      "\n",
      "\n",
      " Confusion Matrix-\n",
      " \n",
      "                  \tcomp.graphics       rec.sport.hockey    sci.med             sci.space           talk.politics.misc  \n",
      "comp.graphics     \t 304             \t0               \t1               \t0               \t0               \tAcc:  99.672131147541\n",
      "\n",
      "rec.sport.hockey  \t 0               \t299             \t0               \t0               \t0               \tAcc:  100.0\n",
      "\n",
      "sci.med           \t 2               \t0               \t282             \t0               \t0               \tAcc:  99.29577464788733\n",
      "\n",
      "sci.space         \t 1               \t0               \t6               \t320             \t0               \tAcc:  97.85932721712538\n",
      "\n",
      "talk.politics.misc\t 0               \t0               \t1               \t0               \t284             \tAcc:  99.64912280701755\n",
      "\n",
      "\n",
      "\n",
      "MI feature based KNN (k=  3 ) accuracy-  99.26666666666667\n",
      "\n"
     ]
    },
    {
     "name": "stderr",
     "output_type": "stream",
     "text": [
      "100%|██████████| 1500/1500 [00:00<00:00, 136738.08it/s]\n"
     ]
    },
    {
     "name": "stdout",
     "output_type": "stream",
     "text": [
      "\n",
      "\n",
      " Confusion Matrix-\n",
      " \n",
      "                  \tcomp.graphics       rec.sport.hockey    sci.med             sci.space           talk.politics.misc  \n",
      "comp.graphics     \t 305             \t0               \t0               \t0               \t0               \tAcc:  100.0\n",
      "\n",
      "rec.sport.hockey  \t 0               \t299             \t0               \t0               \t0               \tAcc:  100.0\n",
      "\n",
      "sci.med           \t 1               \t0               \t283             \t0               \t0               \tAcc:  99.64788732394366\n",
      "\n",
      "sci.space         \t 2               \t0               \t5               \t320             \t0               \tAcc:  97.85932721712538\n",
      "\n",
      "talk.politics.misc\t 0               \t0               \t0               \t0               \t285             \tAcc:  100.0\n",
      "\n",
      "\n",
      "\n",
      "MI feature based KNN (k=  5 ) accuracy-  99.4\n",
      "\n"
     ]
    }
   ],
   "source": [
    "# KNN Algorithm using Tf-Idf feature selection\n",
    "\n",
    "cosine=wordlist['Cosine_sim']\n",
    "print(\"\\n\\tTf-Idf feature based KNN Algorithm-\\n\")\n",
    "print()\n",
    "#kvalue=int(input(\"Enter value of K in KNN- \"))\n",
    "kval=[1,3,5]\n",
    "\n",
    "lt=len(train)\n",
    "t=[]\n",
    "for i in tqdm(range(len(train))):\n",
    "    vec=[]\n",
    "    for k in fwordtf:\n",
    "        a=0\n",
    "        if k in cosine[train[i][0]].keys():\n",
    "            \n",
    "                freq=cosine[train[i][0]][k]\n",
    "                length=cosine[train[i][0]]['Total']\n",
    "                a=Tf_cal(freq,length)\n",
    "                #a=1\n",
    "\n",
    "                \n",
    "        vec.append(a)\n",
    "    vec=np.array(vec)\n",
    "    t.append([vec,train[i][1]])\n",
    "\n",
    "lt=len(test)    \n",
    "tt=[]\n",
    "for i in tqdm(range(len(test))):\n",
    "    vec=[]\n",
    "    for k in fwordtf:\n",
    "        a=0\n",
    "        if k in cosine[test[i][0]].keys():\n",
    "            \n",
    "                freq=cosine[test[i][0]][k]\n",
    "                length=cosine[test[i][0]]['Total']\n",
    "                a=Tf_cal(freq,length)\n",
    "                #a=1\n",
    "            \n",
    "                \n",
    "        vec.append(a)\n",
    "    vec=np.array(vec)\n",
    "    tt.append([vec,test[i][1]])\n",
    "    \n",
    "print()\n",
    "\n",
    "  \n",
    "o_tf=[]\n",
    "for i in tqdm(range(len(test))):\n",
    "    o=KNN(t,tt[i][0])\n",
    "    o_tf.append(o)\n",
    "\n",
    "for kvalue in kval:\n",
    "    \n",
    "    confuse=[[0 for j in range(5)] for i in range(5)]\n",
    "    cou=0.0\n",
    "    for i in tqdm(range(len(test))):\n",
    "        \n",
    "        c=0\n",
    "        av=[0 for i in range(5)]\n",
    "        m=0\n",
    "        ind=0\n",
    "        o=o_tf[i][:kvalue]\n",
    "        for j in o:\n",
    "\n",
    "            av[j[1]]+=1\n",
    "            if av[j[1]]>m:\n",
    "                m=av[j[1]]\n",
    "                ind=j[1]\n",
    "\n",
    "            if j[1]==test[i][1]:\n",
    "                c+=1\n",
    "        if c>=kvalue/2:\n",
    "            cou+=1\n",
    "            confuse[test[i][1]][test[i][1]]+=1\n",
    "        else:\n",
    "            confuse[test[i][1]][ind]+=1\n",
    "\n",
    "    print()\n",
    "    #confuse=np.matrix(confuse)\n",
    "    print(\"\\n Confusion Matrix-\\n \")\n",
    "    display(confuse)\n",
    "    print()\n",
    "    print(\"\\nTf-Idf feature based KNN (k= \",kvalue,\") accuracy- \",cou/len(test)*100)\n",
    "    print()\n",
    "\n",
    "# KNN Algorithm using MI feature selection\n",
    "\n",
    "print()\n",
    "print(\"\\n\\tMI feature based KNN Algorithm-\\n\")\n",
    "print()\n",
    "\n",
    "lt=len(train)\n",
    "t=[]\n",
    "for i in tqdm(range(len(train))):\n",
    "    vec=[]\n",
    "    for k in fwordmi:\n",
    "        a=0\n",
    "        if k in cosine[train[i][0]].keys():\n",
    "                \n",
    "                freq=cosine[train[i][0]][k]\n",
    "                length=cosine[train[i][0]]['Total']\n",
    "                a=Tf_cal(freq,length)\n",
    "                #a=1\n",
    "                \n",
    "\n",
    "                \n",
    "        vec.append(a)\n",
    "    vec=np.array(vec)\n",
    "    t.append([vec,train[i][1]])\n",
    "\n",
    "lt=len(test)    \n",
    "tt=[]\n",
    "for i in tqdm(range(len(test))):\n",
    "    vec=[]\n",
    "    for k in fwordmi:\n",
    "        a=0\n",
    "        if k in cosine[test[i][0]].keys():\n",
    "                \n",
    "                freq=cosine[test[i][0]][k]\n",
    "                length=cosine[test[i][0]]['Total']\n",
    "                a=Tf_cal(freq,length)\n",
    "                #a=1\n",
    "\n",
    "                \n",
    "        vec.append(a)\n",
    "    vec=np.array(vec)\n",
    "    tt.append([vec,test[i][1]])\n",
    "\n",
    "print()    \n",
    "\n",
    "o_mi=[]\n",
    "for i in tqdm(range(len(test))):\n",
    "    o=KNN(t,tt[i][0])\n",
    "    o_mi.append(o)\n",
    "\n",
    "for kvalue in kval:\n",
    "    confuse=[[0 for j in range(5)] for i in range(5)]\n",
    "    cou=0.0\n",
    "    for i in tqdm(range(len(test))):\n",
    "        c=0\n",
    "        o=o_mi[i][:kvalue]\n",
    "\n",
    "        av=[0 for i in range(5)]\n",
    "        m=0\n",
    "        ind=0\n",
    "\n",
    "        for j in o:\n",
    "            av[j[1]]+=1\n",
    "            if av[j[1]]>m:\n",
    "                m=av[j[1]]\n",
    "                ind=j[1]\n",
    "\n",
    "            if j[1]==test[i][1]:\n",
    "                c+=1\n",
    "        if c>=kvalue/2:\n",
    "            cou+=1\n",
    "            confuse[test[i][1]][test[i][1]]+=1\n",
    "        else:\n",
    "            confuse[test[i][1]][ind]+=1\n",
    "\n",
    "    print()\n",
    "    #confuse=np.matrix(confuse)\n",
    "    print(\"\\n Confusion Matrix-\\n \")\n",
    "    display(confuse)\n",
    "    print()\n",
    "    print(\"\\nMI feature based KNN (k= \",kvalue,\") accuracy- \",cou/len(test)*100)\n",
    "    print()"
   ]
  },
  {
   "cell_type": "code",
   "execution_count": 45,
   "metadata": {},
   "outputs": [
    {
     "data": {
      "image/png": "[encoded data removed]",
      "text/plain": [
       "<Figure size 432x288 with 1 Axes>"
      ]
     },
     "metadata": {
      "needs_background": "light"
     },
     "output_type": "display_data"
    },
    {
     "data": {
      "image/png": "[encoded data removed]",
      "text/plain": [
       "<Figure size 432x288 with 1 Axes>"
      ]
     },
     "metadata": {
      "needs_background": "light"
     },
     "output_type": "display_data"
    },
    {
     "data": {
      "image/png": "[encoded data removed]",
      "text/plain": [
       "<Figure size 432x288 with 1 Axes>"
      ]
     },
     "metadata": {
      "needs_background": "light"
     },
     "output_type": "display_data"
    },
    {
     "data": {
      "image/png": "[encoded data removed]",
      "text/plain": [
       "<Figure size 432x288 with 1 Axes>"
      ]
     },
     "metadata": {
      "needs_background": "light"
     },
     "output_type": "display_data"
    },
    {
     "data": {
      "image/png": "[encoded data removed]",
      "text/plain": [
       "<Figure size 432x288 with 1 Axes>"
      ]
     },
     "metadata": {
      "needs_background": "light"
     },
     "output_type": "display_data"
    },
    {
     "data": {
      "image/png": "[encoded data removed]",
      "text/plain": [
       "<Figure size 432x288 with 1 Axes>"
      ]
     },
     "metadata": {
      "needs_background": "light"
     },
     "output_type": "display_data"
    },
    {
     "data": {
      "image/png": "[encoded data removed]",
      "text/plain": [
       "<Figure size 432x288 with 1 Axes>"
      ]
     },
     "metadata": {
      "needs_background": "light"
     },
     "output_type": "display_data"
    },
    {
     "data": {
      "image/png": "[encoded data removed]",
      "text/plain": [
       "<Figure size 432x288 with 1 Axes>"
      ]
     },
     "metadata": {
      "needs_background": "light"
     },
     "output_type": "display_data"
    }
   ],
   "source": [
    "# These are observed accuracy and it is mannually filled in these lists.\n",
    "## field are respestively (50:50,70:30,80:20)\n",
    "\n",
    "f=['50:50','70:30','80:20']\n",
    "nbt=[93.46,94.4,94.3]\n",
    "nbm=[98.56,99.0,99.13]\n",
    "\n",
    "plt.plot(f,nbt, label = \"NB Tf-Idf\") \n",
    "plt.scatter(f,nbt)\n",
    "plt.plot(f,nbm, label = \"NB MI\") \n",
    "plt.scatter(f,nbm)\n",
    "plt.ylabel('Accuracy ->') \n",
    "plt.xlabel('Training vs Testing ratio') \n",
    "plt.title('Naive Bayes') \n",
    "plt.legend() \n",
    "plt.show() \n",
    "\n",
    "knnt=[96.08,96.0,95.5]\n",
    "knnm=[99.0,99.06,99.0]\n",
    "plt.plot(f,knnt, label = \"KNN Tf-Idf K=1\") \n",
    "plt.scatter(f,knnt)\n",
    "plt.plot(f,knnm, label = \"KNN MI k=1\") \n",
    "plt.scatter(f,knnm)\n",
    "plt.ylabel('Accuracy ->') \n",
    "plt.xlabel('Training vs Testing ratio') \n",
    "plt.title('KNN K=1') \n",
    "plt.legend() \n",
    "plt.show() \n",
    "\n",
    "knn3t=[94.88,95.13,94.19]\n",
    "knn3m=[99.16,99.26,99.0]\n",
    "plt.plot(f,knn3t, label = \"KNN Tf-Idf\") \n",
    "plt.scatter(f,knn3t)\n",
    "plt.plot(f,knn3m, label = \"KNN MI\") \n",
    "plt.scatter(f,knn3m)\n",
    "plt.ylabel('Accuracy ->') \n",
    "plt.xlabel('Training vs Testing ratio') \n",
    "plt.title('KNN K=3') \n",
    "plt.legend() \n",
    "plt.show() \n",
    "\n",
    "knn5t=[93.84,95.19,94.1]\n",
    "knn5m=[99.40,99.33,99.3]\n",
    "plt.plot(f,knn5t, label = \"KNN Tf-Idf\") \n",
    "plt.scatter(f,knn5t)\n",
    "plt.plot(f,knn5m, label = \"KNN MI\") \n",
    "plt.scatter(f,knn5m)\n",
    "plt.ylabel('Accuracy ->') \n",
    "plt.xlabel('Training vs Testing ratio') \n",
    "plt.title('KNN k=5') \n",
    "plt.legend() \n",
    "plt.show() \n",
    "\n",
    "plt.plot(f,knn5t, label = \"KNN k=5\") \n",
    "plt.scatter(f,knn5t)\n",
    "plt.plot(f,knn3t, label = \"KNN k=3\") \n",
    "plt.scatter(f,knn3t)\n",
    "plt.plot(f,knnt, label = \"KNN k=1\") \n",
    "plt.scatter(f,knnt)\n",
    "plt.ylabel('Accuracy ->') \n",
    "plt.xlabel('Training vs Testing ratio') \n",
    "plt.title('KNN Tf-Idf comparison @ different K') \n",
    "plt.legend() \n",
    "plt.show()\n",
    "\n",
    "plt.plot(f,knn5m, label = \"KNN k=5\") \n",
    "plt.scatter(f,knn5m)\n",
    "plt.plot(f,knn3m, label = \"KNN k=3\") \n",
    "plt.scatter(f,knn3m)\n",
    "plt.plot(f,knnm, label = \"KNN k=1\") \n",
    "plt.scatter(f,knnm)\n",
    "plt.ylabel('Accuracy ->') \n",
    "plt.xlabel('Training vs Testing ratio') \n",
    "plt.title('KNN MI comparison @ different K') \n",
    "plt.legend() \n",
    "plt.show()\n",
    "\n",
    "plt.plot(f,knnt, label = \"KNN k=1\") \n",
    "plt.scatter(f,knnt)\n",
    "plt.plot(f,nbt, label = \"NB\") \n",
    "plt.scatter(f,nbt)\n",
    "plt.ylabel('Accuracy ->') \n",
    "plt.xlabel('Training vs Testing ratio') \n",
    "plt.title('Comparison b/w NB and KNN using Tf-Idf') \n",
    "plt.legend() \n",
    "plt.show()\n",
    "\n",
    "plt.plot(f,knn5m, label = \"KNN k=5\") \n",
    "plt.scatter(f,knn5m)\n",
    "plt.plot(f,nbm, label = \"NB MI\") \n",
    "plt.scatter(f,nbm)\n",
    "plt.ylabel('Accuracy ->') \n",
    "plt.xlabel('Training vs Testing ratio') \n",
    "plt.title('Comparison b/w NB and KNN using MI') \n",
    "plt.legend() \n",
    "plt.show()\n"
   ]
  },
  {
   "cell_type": "code",
   "execution_count": 46,
   "metadata": {},
   "outputs": [
    {
     "data": {
      "image/png": "[encoded data removed]",
      "text/plain": [
       "<Figure size 432x288 with 1 Axes>"
      ]
     },
     "metadata": {
      "needs_background": "light"
     },
     "output_type": "display_data"
    }
   ],
   "source": [
    "acclist=[92.49166666666666, 94.175, 94.84166666666667, 94.65, 94.81666666666666, 94.76666666666667, 94.79166666666666, 94.775, 94.43333333333332, 93.88333333333333, 93.55, 93.44166666666666, 93.05833333333334, 93.54166666666666, 93.35, 93.0, 93.38333333333333, 93.16666666666667, 92.56666666666665, 92.45, 92.29999999999998, 92.19166666666666, 92.14999999999999, 92.16666666666666, 91.92499999999998, 91.54166666666666, 91.4, 91.19166666666666, 91.075, 89.70833333333333, 89.57500000000002, 89.35, 89.29166666666666, 88.80833333333334, 88.49166666666667, 88.01666666666667, 87.72499999999998, 87.29166666666667, 87.225]\n",
    "y_axis=[i for i in range(25,1000,25)]\n",
    "plt.plot(y_axis,acclist, label = \"Accuracy\") \n",
    "plt.scatter(y_axis,acclist)\n",
    "plt.ylabel('Accuracy ->') \n",
    "plt.xlabel('No features') \n",
    "plt.title('Accuracy vs no feature') \n",
    "plt.legend() \n",
    "plt.show()"
   ]
  },
  {
   "cell_type": "code",
   "execution_count": null,
   "metadata": {},
   "outputs": [],
   "source": []
  }
 ],
 "metadata": {
  "kernelspec": {
   "display_name": "Python 3",
   "language": "python",
   "name": "python3"
  },
  "language_info": {
   "codemirror_mode": {
    "name": "ipython",
    "version": 3
   },
   "file_extension": ".py",
   "mimetype": "text/x-python",
   "name": "python",
   "nbconvert_exporter": "python",
   "pygments_lexer": "ipython3",
   "version": "3.7.3"
  }
 },
 "nbformat": 4,
 "nbformat_minor": 4
}
